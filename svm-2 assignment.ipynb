{
 "cells": [
  {
   "cell_type": "code",
   "execution_count": null,
   "id": "3677a64d-5cde-464a-bee3-55c70f0fd954",
   "metadata": {},
   "outputs": [],
   "source": [
    "##Q-1"
   ]
  },
  {
   "cell_type": "code",
   "execution_count": null,
   "id": "6a2bed5f-359a-4364-a2ee-91be3640feaf",
   "metadata": {},
   "outputs": [],
   "source": [
    "In machine learning, especially in Support Vector Machines (SVMs), the kernel function plays a crucial role. A polynomial kernel is a specific type of kernel function. The kernel function essentially computes the inner product of two feature vectors in a transformed space without explicitly calculating the transformation. Polynomial kernels are a way to introduce non-linearity to the decision boundary.\n",
    "\n",
    "The polynomial kernel is defined as \n",
    "�\n",
    "(\n",
    "�\n",
    ",\n",
    "�\n",
    ")\n",
    "=\n",
    "(\n",
    "�\n",
    "⋅\n",
    "�\n",
    "+\n",
    "�\n",
    ")\n",
    "�\n",
    "K(x,y)=(x⋅y+c) \n",
    "d\n",
    " , where \n",
    "�\n",
    "c is a constant term and \n",
    "�\n",
    "d is the degree of the polynomial. This function computes the dot product of \n",
    "�\n",
    "x and \n",
    "�\n",
    "y and then raises the result to the power of \n",
    "�\n",
    "d. By adjusting the degree \n",
    "�\n",
    "d, you control the level of non-linearity introduced.\n",
    "\n",
    "In SVMs, kernel functions enable the algorithm to operate in a high-dimensional space without explicitly transforming the data. This allows the SVM to capture complex relationships between features."
   ]
  },
  {
   "cell_type": "code",
   "execution_count": null,
   "id": "ff47df54-98d8-4876-b9e6-b3013483ba1b",
   "metadata": {},
   "outputs": [],
   "source": [
    "##Q-2"
   ]
  },
  {
   "cell_type": "code",
   "execution_count": 1,
   "id": "9979c86a-6da3-40ba-abab-a5d23b959590",
   "metadata": {},
   "outputs": [
    {
     "name": "stdout",
     "output_type": "stream",
     "text": [
      "Accuracy: 100.00%\n"
     ]
    }
   ],
   "source": [
    "from sklearn import datasets\n",
    "from sklearn.model_selection import train_test_split\n",
    "from sklearn.svm import SVC\n",
    "from sklearn.metrics import accuracy_score\n",
    "\n",
    "# Load the Iris dataset\n",
    "iris = datasets.load_iris()\n",
    "X = iris.data\n",
    "y = iris.target\n",
    "\n",
    "# Split the dataset into a training set and a testing set\n",
    "X_train, X_test, y_train, y_test = train_test_split(X, y, test_size=0.2, random_state=42)\n",
    "\n",
    "# Create an SVM classifier with a polynomial kernel\n",
    "svm_classifier = SVC(kernel='poly', degree=3, C=1.0)\n",
    "svm_classifier.fit(X_train, y_train)\n",
    "\n",
    "# Predict the labels for the testing set\n",
    "y_pred = svm_classifier.predict(X_test)\n",
    "\n",
    "# Compute the accuracy of the model on the testing set\n",
    "accuracy = accuracy_score(y_test, y_pred)\n",
    "print(f\"Accuracy: {accuracy * 100:.2f}%\")\n"
   ]
  },
  {
   "cell_type": "code",
   "execution_count": null,
   "id": "d4e3044a-4467-412d-89c0-78d389dde647",
   "metadata": {},
   "outputs": [],
   "source": [
    "##Q-3"
   ]
  },
  {
   "cell_type": "code",
   "execution_count": null,
   "id": "35ea7c4e-4dfe-4d5c-be3d-42d7612ecb02",
   "metadata": {},
   "outputs": [],
   "source": []
  },
  {
   "cell_type": "code",
   "execution_count": null,
   "id": "4f916846-7487-4b8c-b1b8-1ece3356c834",
   "metadata": {},
   "outputs": [],
   "source": []
  },
  {
   "cell_type": "code",
   "execution_count": null,
   "id": "f462aae9-9976-4ddc-9fa9-0f4238063fe2",
   "metadata": {},
   "outputs": [],
   "source": []
  },
  {
   "cell_type": "code",
   "execution_count": null,
   "id": "6d411eae-efa1-43c8-9f98-f90394c30bd4",
   "metadata": {},
   "outputs": [],
   "source": []
  },
  {
   "cell_type": "code",
   "execution_count": null,
   "id": "c3a3dccd-7243-42c9-be9f-4a418966d1b1",
   "metadata": {},
   "outputs": [],
   "source": []
  },
  {
   "cell_type": "code",
   "execution_count": null,
   "id": "aae10dc9-b0fb-450e-a48c-510db98ae8ad",
   "metadata": {},
   "outputs": [],
   "source": []
  },
  {
   "cell_type": "code",
   "execution_count": null,
   "id": "f8609069-54c0-4a01-a913-0cd9268779c8",
   "metadata": {},
   "outputs": [],
   "source": []
  },
  {
   "cell_type": "code",
   "execution_count": null,
   "id": "523d7657-df29-4156-ad89-c285d7666f00",
   "metadata": {},
   "outputs": [],
   "source": []
  },
  {
   "cell_type": "code",
   "execution_count": null,
   "id": "8fb480a2-1bd3-4da5-888d-c2d32121092a",
   "metadata": {},
   "outputs": [],
   "source": []
  },
  {
   "cell_type": "code",
   "execution_count": null,
   "id": "61b7bfe9-b080-43fb-ab86-d170bb27d936",
   "metadata": {},
   "outputs": [],
   "source": []
  },
  {
   "cell_type": "code",
   "execution_count": null,
   "id": "1c6f88b2-7793-48b8-846f-cb750d160494",
   "metadata": {},
   "outputs": [],
   "source": []
  },
  {
   "cell_type": "code",
   "execution_count": null,
   "id": "87c71a82-21ae-4114-a965-e35507af6194",
   "metadata": {},
   "outputs": [],
   "source": []
  }
 ],
 "metadata": {
  "kernelspec": {
   "display_name": "Python 3 (ipykernel)",
   "language": "python",
   "name": "python3"
  },
  "language_info": {
   "codemirror_mode": {
    "name": "ipython",
    "version": 3
   },
   "file_extension": ".py",
   "mimetype": "text/x-python",
   "name": "python",
   "nbconvert_exporter": "python",
   "pygments_lexer": "ipython3",
   "version": "3.10.8"
  }
 },
 "nbformat": 4,
 "nbformat_minor": 5
}
